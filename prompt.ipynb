{
 "cells": [
  {
   "cell_type": "markdown",
   "metadata": {
    "id": "CcUT6Fon_qRE"
   },
   "source": [
    "### Required Assignment 5.1: Will the Customer Accept the Coupon?\n",
    "\n",
    "**Context**\n",
    "\n",
    "Imagine driving through town and a coupon is delivered to your cell phone for a restaurant near where you are driving. Would you accept that coupon and take a short detour to the restaurant? Would you accept the coupon but use it on a subsequent trip? Would you ignore the coupon entirely? What if the coupon was for a bar instead of a restaurant? What about a coffee house? Would you accept a bar coupon with a minor passenger in the car? What about if it was just you and your partner in the car? Would weather impact the rate of acceptance? What about the time of day?\n",
    "\n",
    "Obviously, proximity to the business is a factor on whether the coupon is delivered to the driver or not, but what are the factors that determine whether a driver accepts the coupon once it is delivered to them? How would you determine whether a driver is likely to accept a coupon?\n",
    "\n",
    "**Overview**\n",
    "\n",
    "The goal of this project is to use what you know about visualizations and probability distributions to distinguish between customers who accepted a driving coupon versus those that did not.\n",
    "\n",
    "**Data**\n",
    "\n",
    "This data comes to us from the UCI Machine Learning repository and was collected via a survey on Amazon Mechanical Turk. The survey describes different driving scenarios including the destination, current time, weather, passenger, etc., and then ask the person whether he will accept the coupon if he is the driver. Answers that the user will drive there ‘right away’ or ‘later before the coupon expires’ are labeled as ‘Y = 1’ and answers ‘no, I do not want the coupon’ are labeled as ‘Y = 0’.  There are five different types of coupons -- less expensive restaurants (under \\$20), coffee houses, carry out & take away, bar, and more expensive restaurants (\\$20 - $50)."
   ]
  },
  {
   "cell_type": "markdown",
   "metadata": {
    "id": "1wORvMBJ_qRF"
   },
   "source": [
    "**Deliverables**\n",
    "\n",
    "Your final product should be a brief report that highlights the differences between customers who did and did not accept the coupons.  To explore the data you will utilize your knowledge of plotting, statistical summaries, and visualization using Python. You will publish your findings in a public facing github repository as your first portfolio piece.\n",
    "\n",
    "\n",
    "\n"
   ]
  },
  {
   "cell_type": "markdown",
   "metadata": {
    "id": "pG6_Ym6q_qRG"
   },
   "source": [
    "### Data Description\n",
    "Keep in mind that these values mentioned below are average values.\n",
    "\n",
    "The attributes of this data set include:\n",
    "1. User attributes\n",
    "    -  Gender: male, female\n",
    "    -  Age: below 21, 21 to 25, 26 to 30, etc.\n",
    "    -  Marital Status: single, married partner, unmarried partner, or widowed\n",
    "    -  Number of children: 0, 1, or more than 1\n",
    "    -  Education: high school, bachelors degree, associates degree, or graduate degree\n",
    "    -  Occupation: architecture & engineering, business & financial, etc.\n",
    "    -  Annual income: less than \\\\$12500, \\\\$12500 - \\\\$24999, \\\\$25000 - \\\\$37499, etc.\n",
    "    -  Number of times that he/she goes to a bar: 0, less than 1, 1 to 3, 4 to 8 or greater than 8\n",
    "    -  Number of times that he/she buys takeaway food: 0, less than 1, 1 to 3, 4 to 8 or greater\n",
    "    than 8\n",
    "    -  Number of times that he/she goes to a coffee house: 0, less than 1, 1 to 3, 4 to 8 or\n",
    "    greater than 8\n",
    "    -  Number of times that he/she eats at a restaurant with average expense less than \\\\$20 per\n",
    "    person: 0, less than 1, 1 to 3, 4 to 8 or greater than 8\n",
    "    -  Number of times that he/she goes to a bar: 0, less than 1, 1 to 3, 4 to 8 or greater than 8\n",
    "    \n",
    "\n",
    "2. Contextual attributes\n",
    "    - Driving destination: home, work, or no urgent destination\n",
    "    - Location of user, coupon and destination: we provide a map to show the geographical\n",
    "    location of the user, destination, and the venue, and we mark the distance between each\n",
    "    two places with time of driving. The user can see whether the venue is in the same\n",
    "    direction as the destination.\n",
    "    - Weather: sunny, rainy, or snowy\n",
    "    - Temperature: 30F, 55F, or 80F\n",
    "    - Time: 10AM, 2PM, or 6PM\n",
    "    - Passenger: alone, partner, kid(s), or friend(s)\n",
    "\n",
    "\n",
    "3. Coupon attributes\n",
    "    - time before it expires: 2 hours or one day"
   ]
  },
  {
   "cell_type": "code",
   "execution_count": 24,
   "metadata": {
    "id": "dzNoP3o__qRG"
   },
   "outputs": [],
   "source": [
    "import matplotlib.pyplot as plt\n",
    "import seaborn as sns\n",
    "import pandas as pd\n",
    "import numpy as np"
   ]
  },
  {
   "cell_type": "markdown",
   "metadata": {
    "id": "Ct8pI1uE_qRG"
   },
   "source": [
    "### Problems\n",
    "\n",
    "Use the prompts below to get started with your data analysis.  \n",
    "\n",
    "1. Read in the `coupons.csv` file.\n",
    "\n",
    "\n"
   ]
  },
  {
   "cell_type": "code",
   "execution_count": 25,
   "metadata": {
    "id": "X0vbffYg_qRH"
   },
   "outputs": [],
   "source": [
    "pd.set_option('display.max_columns', None)\n",
    "data = pd.read_csv('data/coupons.csv')"
   ]
  },
  {
   "cell_type": "code",
   "execution_count": 26,
   "metadata": {
    "id": "TXofQ_DF_qRH",
    "outputId": "2fc96a2c-1112-4b54-f24f-dbb9bc88abfb"
   },
   "outputs": [
    {
     "data": {
      "text/html": [
       "<div>\n",
       "<style scoped>\n",
       "    .dataframe tbody tr th:only-of-type {\n",
       "        vertical-align: middle;\n",
       "    }\n",
       "\n",
       "    .dataframe tbody tr th {\n",
       "        vertical-align: top;\n",
       "    }\n",
       "\n",
       "    .dataframe thead th {\n",
       "        text-align: right;\n",
       "    }\n",
       "</style>\n",
       "<table border=\"1\" class=\"dataframe\">\n",
       "  <thead>\n",
       "    <tr style=\"text-align: right;\">\n",
       "      <th></th>\n",
       "      <th>destination</th>\n",
       "      <th>passanger</th>\n",
       "      <th>weather</th>\n",
       "      <th>temperature</th>\n",
       "      <th>time</th>\n",
       "      <th>coupon</th>\n",
       "      <th>expiration</th>\n",
       "      <th>gender</th>\n",
       "      <th>age</th>\n",
       "      <th>maritalStatus</th>\n",
       "      <th>has_children</th>\n",
       "      <th>education</th>\n",
       "      <th>occupation</th>\n",
       "      <th>income</th>\n",
       "      <th>car</th>\n",
       "      <th>Bar</th>\n",
       "      <th>CoffeeHouse</th>\n",
       "      <th>CarryAway</th>\n",
       "      <th>RestaurantLessThan20</th>\n",
       "      <th>Restaurant20To50</th>\n",
       "      <th>toCoupon_GEQ5min</th>\n",
       "      <th>toCoupon_GEQ15min</th>\n",
       "      <th>toCoupon_GEQ25min</th>\n",
       "      <th>direction_same</th>\n",
       "      <th>direction_opp</th>\n",
       "      <th>Y</th>\n",
       "    </tr>\n",
       "  </thead>\n",
       "  <tbody>\n",
       "    <tr>\n",
       "      <th>0</th>\n",
       "      <td>No Urgent Place</td>\n",
       "      <td>Alone</td>\n",
       "      <td>Sunny</td>\n",
       "      <td>55</td>\n",
       "      <td>2PM</td>\n",
       "      <td>Restaurant(&lt;20)</td>\n",
       "      <td>1d</td>\n",
       "      <td>Female</td>\n",
       "      <td>21</td>\n",
       "      <td>Unmarried partner</td>\n",
       "      <td>1</td>\n",
       "      <td>Some college - no degree</td>\n",
       "      <td>Unemployed</td>\n",
       "      <td>$37500 - $49999</td>\n",
       "      <td>NaN</td>\n",
       "      <td>never</td>\n",
       "      <td>never</td>\n",
       "      <td>NaN</td>\n",
       "      <td>4~8</td>\n",
       "      <td>1~3</td>\n",
       "      <td>1</td>\n",
       "      <td>0</td>\n",
       "      <td>0</td>\n",
       "      <td>0</td>\n",
       "      <td>1</td>\n",
       "      <td>1</td>\n",
       "    </tr>\n",
       "    <tr>\n",
       "      <th>1</th>\n",
       "      <td>No Urgent Place</td>\n",
       "      <td>Friend(s)</td>\n",
       "      <td>Sunny</td>\n",
       "      <td>80</td>\n",
       "      <td>10AM</td>\n",
       "      <td>Coffee House</td>\n",
       "      <td>2h</td>\n",
       "      <td>Female</td>\n",
       "      <td>21</td>\n",
       "      <td>Unmarried partner</td>\n",
       "      <td>1</td>\n",
       "      <td>Some college - no degree</td>\n",
       "      <td>Unemployed</td>\n",
       "      <td>$37500 - $49999</td>\n",
       "      <td>NaN</td>\n",
       "      <td>never</td>\n",
       "      <td>never</td>\n",
       "      <td>NaN</td>\n",
       "      <td>4~8</td>\n",
       "      <td>1~3</td>\n",
       "      <td>1</td>\n",
       "      <td>0</td>\n",
       "      <td>0</td>\n",
       "      <td>0</td>\n",
       "      <td>1</td>\n",
       "      <td>0</td>\n",
       "    </tr>\n",
       "    <tr>\n",
       "      <th>2</th>\n",
       "      <td>No Urgent Place</td>\n",
       "      <td>Friend(s)</td>\n",
       "      <td>Sunny</td>\n",
       "      <td>80</td>\n",
       "      <td>10AM</td>\n",
       "      <td>Carry out &amp; Take away</td>\n",
       "      <td>2h</td>\n",
       "      <td>Female</td>\n",
       "      <td>21</td>\n",
       "      <td>Unmarried partner</td>\n",
       "      <td>1</td>\n",
       "      <td>Some college - no degree</td>\n",
       "      <td>Unemployed</td>\n",
       "      <td>$37500 - $49999</td>\n",
       "      <td>NaN</td>\n",
       "      <td>never</td>\n",
       "      <td>never</td>\n",
       "      <td>NaN</td>\n",
       "      <td>4~8</td>\n",
       "      <td>1~3</td>\n",
       "      <td>1</td>\n",
       "      <td>1</td>\n",
       "      <td>0</td>\n",
       "      <td>0</td>\n",
       "      <td>1</td>\n",
       "      <td>1</td>\n",
       "    </tr>\n",
       "    <tr>\n",
       "      <th>3</th>\n",
       "      <td>No Urgent Place</td>\n",
       "      <td>Friend(s)</td>\n",
       "      <td>Sunny</td>\n",
       "      <td>80</td>\n",
       "      <td>2PM</td>\n",
       "      <td>Coffee House</td>\n",
       "      <td>2h</td>\n",
       "      <td>Female</td>\n",
       "      <td>21</td>\n",
       "      <td>Unmarried partner</td>\n",
       "      <td>1</td>\n",
       "      <td>Some college - no degree</td>\n",
       "      <td>Unemployed</td>\n",
       "      <td>$37500 - $49999</td>\n",
       "      <td>NaN</td>\n",
       "      <td>never</td>\n",
       "      <td>never</td>\n",
       "      <td>NaN</td>\n",
       "      <td>4~8</td>\n",
       "      <td>1~3</td>\n",
       "      <td>1</td>\n",
       "      <td>1</td>\n",
       "      <td>0</td>\n",
       "      <td>0</td>\n",
       "      <td>1</td>\n",
       "      <td>0</td>\n",
       "    </tr>\n",
       "    <tr>\n",
       "      <th>4</th>\n",
       "      <td>No Urgent Place</td>\n",
       "      <td>Friend(s)</td>\n",
       "      <td>Sunny</td>\n",
       "      <td>80</td>\n",
       "      <td>2PM</td>\n",
       "      <td>Coffee House</td>\n",
       "      <td>1d</td>\n",
       "      <td>Female</td>\n",
       "      <td>21</td>\n",
       "      <td>Unmarried partner</td>\n",
       "      <td>1</td>\n",
       "      <td>Some college - no degree</td>\n",
       "      <td>Unemployed</td>\n",
       "      <td>$37500 - $49999</td>\n",
       "      <td>NaN</td>\n",
       "      <td>never</td>\n",
       "      <td>never</td>\n",
       "      <td>NaN</td>\n",
       "      <td>4~8</td>\n",
       "      <td>1~3</td>\n",
       "      <td>1</td>\n",
       "      <td>1</td>\n",
       "      <td>0</td>\n",
       "      <td>0</td>\n",
       "      <td>1</td>\n",
       "      <td>0</td>\n",
       "    </tr>\n",
       "  </tbody>\n",
       "</table>\n",
       "</div>"
      ],
      "text/plain": [
       "       destination  passanger weather  temperature  time  \\\n",
       "0  No Urgent Place      Alone   Sunny           55   2PM   \n",
       "1  No Urgent Place  Friend(s)   Sunny           80  10AM   \n",
       "2  No Urgent Place  Friend(s)   Sunny           80  10AM   \n",
       "3  No Urgent Place  Friend(s)   Sunny           80   2PM   \n",
       "4  No Urgent Place  Friend(s)   Sunny           80   2PM   \n",
       "\n",
       "                  coupon expiration  gender age      maritalStatus  \\\n",
       "0        Restaurant(<20)         1d  Female  21  Unmarried partner   \n",
       "1           Coffee House         2h  Female  21  Unmarried partner   \n",
       "2  Carry out & Take away         2h  Female  21  Unmarried partner   \n",
       "3           Coffee House         2h  Female  21  Unmarried partner   \n",
       "4           Coffee House         1d  Female  21  Unmarried partner   \n",
       "\n",
       "   has_children                 education  occupation           income  car  \\\n",
       "0             1  Some college - no degree  Unemployed  $37500 - $49999  NaN   \n",
       "1             1  Some college - no degree  Unemployed  $37500 - $49999  NaN   \n",
       "2             1  Some college - no degree  Unemployed  $37500 - $49999  NaN   \n",
       "3             1  Some college - no degree  Unemployed  $37500 - $49999  NaN   \n",
       "4             1  Some college - no degree  Unemployed  $37500 - $49999  NaN   \n",
       "\n",
       "     Bar CoffeeHouse CarryAway RestaurantLessThan20 Restaurant20To50  \\\n",
       "0  never       never       NaN                  4~8              1~3   \n",
       "1  never       never       NaN                  4~8              1~3   \n",
       "2  never       never       NaN                  4~8              1~3   \n",
       "3  never       never       NaN                  4~8              1~3   \n",
       "4  never       never       NaN                  4~8              1~3   \n",
       "\n",
       "   toCoupon_GEQ5min  toCoupon_GEQ15min  toCoupon_GEQ25min  direction_same  \\\n",
       "0                 1                  0                  0               0   \n",
       "1                 1                  0                  0               0   \n",
       "2                 1                  1                  0               0   \n",
       "3                 1                  1                  0               0   \n",
       "4                 1                  1                  0               0   \n",
       "\n",
       "   direction_opp  Y  \n",
       "0              1  1  \n",
       "1              1  0  \n",
       "2              1  1  \n",
       "3              1  0  \n",
       "4              1  0  "
      ]
     },
     "execution_count": 26,
     "metadata": {},
     "output_type": "execute_result"
    }
   ],
   "source": [
    "data.head()"
   ]
  },
  {
   "cell_type": "code",
   "execution_count": 27,
   "metadata": {},
   "outputs": [
    {
     "data": {
      "text/plain": [
       "Index(['destination', 'passanger', 'weather', 'temperature', 'time', 'coupon',\n",
       "       'expiration', 'gender', 'age', 'maritalStatus', 'has_children',\n",
       "       'education', 'occupation', 'income', 'car', 'Bar', 'CoffeeHouse',\n",
       "       'CarryAway', 'RestaurantLessThan20', 'Restaurant20To50',\n",
       "       'toCoupon_GEQ5min', 'toCoupon_GEQ15min', 'toCoupon_GEQ25min',\n",
       "       'direction_same', 'direction_opp', 'Y'],\n",
       "      dtype='object')"
      ]
     },
     "execution_count": 27,
     "metadata": {},
     "output_type": "execute_result"
    }
   ],
   "source": [
    "data.columns"
   ]
  },
  {
   "cell_type": "markdown",
   "metadata": {
    "id": "GcDs78ZH_qRH"
   },
   "source": [
    "2. Investigate the dataset for missing or problematic data."
   ]
  },
  {
   "cell_type": "code",
   "execution_count": 28,
   "metadata": {},
   "outputs": [
    {
     "name": "stdout",
     "output_type": "stream",
     "text": [
      "(12684, 26)\n",
      "destination                 0\n",
      "passanger                   0\n",
      "weather                     0\n",
      "temperature                 0\n",
      "time                        0\n",
      "coupon                      0\n",
      "expiration                  0\n",
      "gender                      0\n",
      "age                         0\n",
      "maritalStatus               0\n",
      "has_children                0\n",
      "education                   0\n",
      "occupation                  0\n",
      "income                      0\n",
      "car                     12576\n",
      "Bar                       107\n",
      "CoffeeHouse               217\n",
      "CarryAway                 151\n",
      "RestaurantLessThan20      130\n",
      "Restaurant20To50          189\n",
      "toCoupon_GEQ5min            0\n",
      "toCoupon_GEQ15min           0\n",
      "toCoupon_GEQ25min           0\n",
      "direction_same              0\n",
      "direction_opp               0\n",
      "Y                           0\n",
      "dtype: int64\n",
      "destination             object\n",
      "passanger               object\n",
      "weather                 object\n",
      "temperature              int64\n",
      "time                    object\n",
      "coupon                  object\n",
      "expiration              object\n",
      "gender                  object\n",
      "age                     object\n",
      "maritalStatus           object\n",
      "has_children             int64\n",
      "education               object\n",
      "occupation              object\n",
      "income                  object\n",
      "car                     object\n",
      "Bar                     object\n",
      "CoffeeHouse             object\n",
      "CarryAway               object\n",
      "RestaurantLessThan20    object\n",
      "Restaurant20To50        object\n",
      "toCoupon_GEQ5min         int64\n",
      "toCoupon_GEQ15min        int64\n",
      "toCoupon_GEQ25min        int64\n",
      "direction_same           int64\n",
      "direction_opp            int64\n",
      "Y                        int64\n",
      "dtype: object\n"
     ]
    }
   ],
   "source": [
    "# Investigate missing values\n",
    "# Checking for total entries and missing values\n",
    "print(data.shape)\n",
    "print(data.isnull().sum())\n",
    "print(data.dtypes)\n",
    "\n",
    "# Clearly 'car' column has most missing values when coompared to total entries so it can be dropped\n",
    "# Age column can be changed to have all integer values by considering Age 50+ as 50 and Below21 as 20"
   ]
  },
  {
   "cell_type": "markdown",
   "metadata": {
    "id": "bSdVSpYB_qRH"
   },
   "source": [
    "3. Decide what to do about your missing data -- drop, replace, other..."
   ]
  },
  {
   "cell_type": "code",
   "execution_count": 29,
   "metadata": {
    "id": "tyvoAC5F_qRI"
   },
   "outputs": [],
   "source": [
    "# Clearly car column has only fraction of values and is not useful\n",
    "# car where it has a value\n",
    "data['car'].value_counts()\n",
    "\n",
    "# remove car column\n",
    "data = data.drop(columns=['car'])"
   ]
  },
  {
   "cell_type": "code",
   "execution_count": 30,
   "metadata": {},
   "outputs": [],
   "source": [
    "# remove plus and below string from age column. We will treat the lowest and highest age as 21 and below and 50 and above respectively\n",
    "data['age'] = data['age'].str.replace('plus', '').str.replace('below21', '20').str.strip()\n",
    "\n",
    "data['age'].value_counts()\n",
    "\n",
    "data['age'] = data['age'].astype(int)"
   ]
  },
  {
   "cell_type": "markdown",
   "metadata": {
    "id": "YE6oJbXd_qRI"
   },
   "source": [
    "4. What proportion of the total observations chose to accept the coupon?\n",
    "\n"
   ]
  },
  {
   "cell_type": "code",
   "execution_count": 31,
   "metadata": {
    "id": "86GGqBTv_qRI"
   },
   "outputs": [
    {
     "name": "stdout",
     "output_type": "stream",
     "text": [
      "Percentage of coupons accepted: 56.84326710816777\n",
      "Proportion of coupons accepted: 0.5684326710816777\n"
     ]
    }
   ],
   "source": [
    "total_coupons = data['coupon'].value_counts().sum()\n",
    "coupons_accepted = data[data['Y'] == 1]['coupon'].value_counts().sum()\n",
    "\n",
    "coupons_not_accepted = data[data['Y'] == 0]['coupon'].value_counts().sum()\n",
    "\n",
    "# Percentage of coupons accepted\n",
    "percentage_coupons_accepted = (coupons_accepted / total_coupons) * 100\n",
    "print(f'Percentage of coupons accepted: {percentage_coupons_accepted}')\n",
    "\n",
    "# Proportion of coupons accepted\n",
    "proportion_coupons_accepted = coupons_accepted / total_coupons\n",
    "print(f'Proportion of coupons accepted: {proportion_coupons_accepted}')"
   ]
  },
  {
   "cell_type": "markdown",
   "metadata": {
    "id": "vflz0DoE_qRI"
   },
   "source": [
    "5. Use a bar plot to visualize the `coupon` column."
   ]
  },
  {
   "cell_type": "code",
   "execution_count": 32,
   "metadata": {
    "id": "dHFh3E45_qRI"
   },
   "outputs": [
    {
     "data": {
      "text/plain": [
       "<Axes: xlabel='count', ylabel='coupon'>"
      ]
     },
     "execution_count": 32,
     "metadata": {},
     "output_type": "execute_result"
    },
    {
     "data": {
      "image/png": "[encoded data removed]",
      "text/plain": [
       "<Figure size 640x480 with 1 Axes>"
      ]
     },
     "metadata": {},
     "output_type": "display_data"
    }
   ],
   "source": [
    "# Plotting coupons column\n",
    "sns.countplot(data['coupon'])"
   ]
  },
  {
   "cell_type": "markdown",
   "metadata": {
    "id": "Qw4lCyx2_qRI"
   },
   "source": [
    "6. Use a histogram to visualize the temperature column."
   ]
  },
  {
   "cell_type": "code",
   "execution_count": 97,
   "metadata": {
    "id": "Yg9Anv71_qRI"
   },
   "outputs": [
    {
     "data": {
      "text/plain": [
       "<Axes: xlabel='temperature', ylabel='Count'>"
      ]
     },
     "execution_count": 97,
     "metadata": {},
     "output_type": "execute_result"
    },
    {
     "data": {
      "image/png": "[encoded data removed]",
      "text/plain": [
       "<Figure size 640x480 with 1 Axes>"
      ]
     },
     "metadata": {},
     "output_type": "display_data"
    }
   ],
   "source": [
    "# Histogram for temperature\n",
    "sns.histplot(data['temperature'], bins=10)"
   ]
  },
  {
   "cell_type": "markdown",
   "metadata": {
    "id": "FupfgeJk_qRJ"
   },
   "source": [
    "**Investigating the Bar Coupons**\n",
    "\n",
    "Now, we will lead you through an exploration of just the bar related coupons.  \n",
    "\n",
    "1. Create a new `DataFrame` that contains just the bar coupons.\n"
   ]
  },
  {
   "cell_type": "code",
   "execution_count": 98,
   "metadata": {
    "id": "tMBlWuGq_qRJ"
   },
   "outputs": [
    {
     "data": {
      "text/html": [
       "<div>\n",
       "<style scoped>\n",
       "    .dataframe tbody tr th:only-of-type {\n",
       "        vertical-align: middle;\n",
       "    }\n",
       "\n",
       "    .dataframe tbody tr th {\n",
       "        vertical-align: top;\n",
       "    }\n",
       "\n",
       "    .dataframe thead th {\n",
       "        text-align: right;\n",
       "    }\n",
       "</style>\n",
       "<table border=\"1\" class=\"dataframe\">\n",
       "  <thead>\n",
       "    <tr style=\"text-align: right;\">\n",
       "      <th></th>\n",
       "      <th>destination</th>\n",
       "      <th>passanger</th>\n",
       "      <th>weather</th>\n",
       "      <th>temperature</th>\n",
       "      <th>time</th>\n",
       "      <th>coupon</th>\n",
       "      <th>expiration</th>\n",
       "      <th>gender</th>\n",
       "      <th>age</th>\n",
       "      <th>maritalStatus</th>\n",
       "      <th>has_children</th>\n",
       "      <th>education</th>\n",
       "      <th>occupation</th>\n",
       "      <th>income</th>\n",
       "      <th>Bar</th>\n",
       "      <th>CoffeeHouse</th>\n",
       "      <th>CarryAway</th>\n",
       "      <th>RestaurantLessThan20</th>\n",
       "      <th>Restaurant20To50</th>\n",
       "      <th>toCoupon_GEQ5min</th>\n",
       "      <th>toCoupon_GEQ15min</th>\n",
       "      <th>toCoupon_GEQ25min</th>\n",
       "      <th>direction_same</th>\n",
       "      <th>direction_opp</th>\n",
       "      <th>Y</th>\n",
       "    </tr>\n",
       "  </thead>\n",
       "  <tbody>\n",
       "    <tr>\n",
       "      <th>9</th>\n",
       "      <td>No Urgent Place</td>\n",
       "      <td>Kid(s)</td>\n",
       "      <td>Sunny</td>\n",
       "      <td>80</td>\n",
       "      <td>10AM</td>\n",
       "      <td>Bar</td>\n",
       "      <td>1d</td>\n",
       "      <td>Female</td>\n",
       "      <td>21</td>\n",
       "      <td>Unmarried partner</td>\n",
       "      <td>1</td>\n",
       "      <td>Some college - no degree</td>\n",
       "      <td>Unemployed</td>\n",
       "      <td>$37500 - $49999</td>\n",
       "      <td>never</td>\n",
       "      <td>never</td>\n",
       "      <td>NaN</td>\n",
       "      <td>4~8</td>\n",
       "      <td>1~3</td>\n",
       "      <td>1</td>\n",
       "      <td>1</td>\n",
       "      <td>0</td>\n",
       "      <td>0</td>\n",
       "      <td>1</td>\n",
       "      <td>0</td>\n",
       "    </tr>\n",
       "    <tr>\n",
       "      <th>13</th>\n",
       "      <td>Home</td>\n",
       "      <td>Alone</td>\n",
       "      <td>Sunny</td>\n",
       "      <td>55</td>\n",
       "      <td>6PM</td>\n",
       "      <td>Bar</td>\n",
       "      <td>1d</td>\n",
       "      <td>Female</td>\n",
       "      <td>21</td>\n",
       "      <td>Unmarried partner</td>\n",
       "      <td>1</td>\n",
       "      <td>Some college - no degree</td>\n",
       "      <td>Unemployed</td>\n",
       "      <td>$37500 - $49999</td>\n",
       "      <td>never</td>\n",
       "      <td>never</td>\n",
       "      <td>NaN</td>\n",
       "      <td>4~8</td>\n",
       "      <td>1~3</td>\n",
       "      <td>1</td>\n",
       "      <td>0</td>\n",
       "      <td>0</td>\n",
       "      <td>1</td>\n",
       "      <td>0</td>\n",
       "      <td>1</td>\n",
       "    </tr>\n",
       "    <tr>\n",
       "      <th>17</th>\n",
       "      <td>Work</td>\n",
       "      <td>Alone</td>\n",
       "      <td>Sunny</td>\n",
       "      <td>55</td>\n",
       "      <td>7AM</td>\n",
       "      <td>Bar</td>\n",
       "      <td>1d</td>\n",
       "      <td>Female</td>\n",
       "      <td>21</td>\n",
       "      <td>Unmarried partner</td>\n",
       "      <td>1</td>\n",
       "      <td>Some college - no degree</td>\n",
       "      <td>Unemployed</td>\n",
       "      <td>$37500 - $49999</td>\n",
       "      <td>never</td>\n",
       "      <td>never</td>\n",
       "      <td>NaN</td>\n",
       "      <td>4~8</td>\n",
       "      <td>1~3</td>\n",
       "      <td>1</td>\n",
       "      <td>1</td>\n",
       "      <td>1</td>\n",
       "      <td>0</td>\n",
       "      <td>1</td>\n",
       "      <td>0</td>\n",
       "    </tr>\n",
       "    <tr>\n",
       "      <th>24</th>\n",
       "      <td>No Urgent Place</td>\n",
       "      <td>Friend(s)</td>\n",
       "      <td>Sunny</td>\n",
       "      <td>80</td>\n",
       "      <td>10AM</td>\n",
       "      <td>Bar</td>\n",
       "      <td>1d</td>\n",
       "      <td>Male</td>\n",
       "      <td>21</td>\n",
       "      <td>Single</td>\n",
       "      <td>0</td>\n",
       "      <td>Bachelors degree</td>\n",
       "      <td>Architecture &amp; Engineering</td>\n",
       "      <td>$62500 - $74999</td>\n",
       "      <td>never</td>\n",
       "      <td>less1</td>\n",
       "      <td>4~8</td>\n",
       "      <td>4~8</td>\n",
       "      <td>less1</td>\n",
       "      <td>1</td>\n",
       "      <td>0</td>\n",
       "      <td>0</td>\n",
       "      <td>0</td>\n",
       "      <td>1</td>\n",
       "      <td>1</td>\n",
       "    </tr>\n",
       "    <tr>\n",
       "      <th>35</th>\n",
       "      <td>Home</td>\n",
       "      <td>Alone</td>\n",
       "      <td>Sunny</td>\n",
       "      <td>55</td>\n",
       "      <td>6PM</td>\n",
       "      <td>Bar</td>\n",
       "      <td>1d</td>\n",
       "      <td>Male</td>\n",
       "      <td>21</td>\n",
       "      <td>Single</td>\n",
       "      <td>0</td>\n",
       "      <td>Bachelors degree</td>\n",
       "      <td>Architecture &amp; Engineering</td>\n",
       "      <td>$62500 - $74999</td>\n",
       "      <td>never</td>\n",
       "      <td>less1</td>\n",
       "      <td>4~8</td>\n",
       "      <td>4~8</td>\n",
       "      <td>less1</td>\n",
       "      <td>1</td>\n",
       "      <td>0</td>\n",
       "      <td>0</td>\n",
       "      <td>1</td>\n",
       "      <td>0</td>\n",
       "      <td>1</td>\n",
       "    </tr>\n",
       "    <tr>\n",
       "      <th>...</th>\n",
       "      <td>...</td>\n",
       "      <td>...</td>\n",
       "      <td>...</td>\n",
       "      <td>...</td>\n",
       "      <td>...</td>\n",
       "      <td>...</td>\n",
       "      <td>...</td>\n",
       "      <td>...</td>\n",
       "      <td>...</td>\n",
       "      <td>...</td>\n",
       "      <td>...</td>\n",
       "      <td>...</td>\n",
       "      <td>...</td>\n",
       "      <td>...</td>\n",
       "      <td>...</td>\n",
       "      <td>...</td>\n",
       "      <td>...</td>\n",
       "      <td>...</td>\n",
       "      <td>...</td>\n",
       "      <td>...</td>\n",
       "      <td>...</td>\n",
       "      <td>...</td>\n",
       "      <td>...</td>\n",
       "      <td>...</td>\n",
       "      <td>...</td>\n",
       "    </tr>\n",
       "    <tr>\n",
       "      <th>12663</th>\n",
       "      <td>No Urgent Place</td>\n",
       "      <td>Friend(s)</td>\n",
       "      <td>Sunny</td>\n",
       "      <td>80</td>\n",
       "      <td>10PM</td>\n",
       "      <td>Bar</td>\n",
       "      <td>1d</td>\n",
       "      <td>Male</td>\n",
       "      <td>26</td>\n",
       "      <td>Single</td>\n",
       "      <td>0</td>\n",
       "      <td>Bachelors degree</td>\n",
       "      <td>Sales &amp; Related</td>\n",
       "      <td>$75000 - $87499</td>\n",
       "      <td>never</td>\n",
       "      <td>never</td>\n",
       "      <td>1~3</td>\n",
       "      <td>4~8</td>\n",
       "      <td>1~3</td>\n",
       "      <td>1</td>\n",
       "      <td>1</td>\n",
       "      <td>0</td>\n",
       "      <td>0</td>\n",
       "      <td>1</td>\n",
       "      <td>0</td>\n",
       "    </tr>\n",
       "    <tr>\n",
       "      <th>12664</th>\n",
       "      <td>No Urgent Place</td>\n",
       "      <td>Friend(s)</td>\n",
       "      <td>Sunny</td>\n",
       "      <td>55</td>\n",
       "      <td>10PM</td>\n",
       "      <td>Bar</td>\n",
       "      <td>2h</td>\n",
       "      <td>Male</td>\n",
       "      <td>26</td>\n",
       "      <td>Single</td>\n",
       "      <td>0</td>\n",
       "      <td>Bachelors degree</td>\n",
       "      <td>Sales &amp; Related</td>\n",
       "      <td>$75000 - $87499</td>\n",
       "      <td>never</td>\n",
       "      <td>never</td>\n",
       "      <td>1~3</td>\n",
       "      <td>4~8</td>\n",
       "      <td>1~3</td>\n",
       "      <td>1</td>\n",
       "      <td>1</td>\n",
       "      <td>0</td>\n",
       "      <td>0</td>\n",
       "      <td>1</td>\n",
       "      <td>0</td>\n",
       "    </tr>\n",
       "    <tr>\n",
       "      <th>12667</th>\n",
       "      <td>No Urgent Place</td>\n",
       "      <td>Alone</td>\n",
       "      <td>Rainy</td>\n",
       "      <td>55</td>\n",
       "      <td>10AM</td>\n",
       "      <td>Bar</td>\n",
       "      <td>1d</td>\n",
       "      <td>Male</td>\n",
       "      <td>26</td>\n",
       "      <td>Single</td>\n",
       "      <td>0</td>\n",
       "      <td>Bachelors degree</td>\n",
       "      <td>Sales &amp; Related</td>\n",
       "      <td>$75000 - $87499</td>\n",
       "      <td>never</td>\n",
       "      <td>never</td>\n",
       "      <td>1~3</td>\n",
       "      <td>4~8</td>\n",
       "      <td>1~3</td>\n",
       "      <td>1</td>\n",
       "      <td>1</td>\n",
       "      <td>0</td>\n",
       "      <td>0</td>\n",
       "      <td>1</td>\n",
       "      <td>0</td>\n",
       "    </tr>\n",
       "    <tr>\n",
       "      <th>12670</th>\n",
       "      <td>No Urgent Place</td>\n",
       "      <td>Partner</td>\n",
       "      <td>Rainy</td>\n",
       "      <td>55</td>\n",
       "      <td>6PM</td>\n",
       "      <td>Bar</td>\n",
       "      <td>2h</td>\n",
       "      <td>Male</td>\n",
       "      <td>26</td>\n",
       "      <td>Single</td>\n",
       "      <td>0</td>\n",
       "      <td>Bachelors degree</td>\n",
       "      <td>Sales &amp; Related</td>\n",
       "      <td>$75000 - $87499</td>\n",
       "      <td>never</td>\n",
       "      <td>never</td>\n",
       "      <td>1~3</td>\n",
       "      <td>4~8</td>\n",
       "      <td>1~3</td>\n",
       "      <td>1</td>\n",
       "      <td>1</td>\n",
       "      <td>0</td>\n",
       "      <td>0</td>\n",
       "      <td>1</td>\n",
       "      <td>0</td>\n",
       "    </tr>\n",
       "    <tr>\n",
       "      <th>12682</th>\n",
       "      <td>Work</td>\n",
       "      <td>Alone</td>\n",
       "      <td>Snowy</td>\n",
       "      <td>30</td>\n",
       "      <td>7AM</td>\n",
       "      <td>Bar</td>\n",
       "      <td>1d</td>\n",
       "      <td>Male</td>\n",
       "      <td>26</td>\n",
       "      <td>Single</td>\n",
       "      <td>0</td>\n",
       "      <td>Bachelors degree</td>\n",
       "      <td>Sales &amp; Related</td>\n",
       "      <td>$75000 - $87499</td>\n",
       "      <td>never</td>\n",
       "      <td>never</td>\n",
       "      <td>1~3</td>\n",
       "      <td>4~8</td>\n",
       "      <td>1~3</td>\n",
       "      <td>1</td>\n",
       "      <td>1</td>\n",
       "      <td>1</td>\n",
       "      <td>0</td>\n",
       "      <td>1</td>\n",
       "      <td>0</td>\n",
       "    </tr>\n",
       "  </tbody>\n",
       "</table>\n",
       "<p>2017 rows × 25 columns</p>\n",
       "</div>"
      ],
      "text/plain": [
       "           destination  passanger weather  temperature  time coupon  \\\n",
       "9      No Urgent Place     Kid(s)   Sunny           80  10AM    Bar   \n",
       "13                Home      Alone   Sunny           55   6PM    Bar   \n",
       "17                Work      Alone   Sunny           55   7AM    Bar   \n",
       "24     No Urgent Place  Friend(s)   Sunny           80  10AM    Bar   \n",
       "35                Home      Alone   Sunny           55   6PM    Bar   \n",
       "...                ...        ...     ...          ...   ...    ...   \n",
       "12663  No Urgent Place  Friend(s)   Sunny           80  10PM    Bar   \n",
       "12664  No Urgent Place  Friend(s)   Sunny           55  10PM    Bar   \n",
       "12667  No Urgent Place      Alone   Rainy           55  10AM    Bar   \n",
       "12670  No Urgent Place    Partner   Rainy           55   6PM    Bar   \n",
       "12682             Work      Alone   Snowy           30   7AM    Bar   \n",
       "\n",
       "      expiration  gender  age      maritalStatus  has_children  \\\n",
       "9             1d  Female   21  Unmarried partner             1   \n",
       "13            1d  Female   21  Unmarried partner             1   \n",
       "17            1d  Female   21  Unmarried partner             1   \n",
       "24            1d    Male   21             Single             0   \n",
       "35            1d    Male   21             Single             0   \n",
       "...          ...     ...  ...                ...           ...   \n",
       "12663         1d    Male   26             Single             0   \n",
       "12664         2h    Male   26             Single             0   \n",
       "12667         1d    Male   26             Single             0   \n",
       "12670         2h    Male   26             Single             0   \n",
       "12682         1d    Male   26             Single             0   \n",
       "\n",
       "                      education                  occupation           income  \\\n",
       "9      Some college - no degree                  Unemployed  $37500 - $49999   \n",
       "13     Some college - no degree                  Unemployed  $37500 - $49999   \n",
       "17     Some college - no degree                  Unemployed  $37500 - $49999   \n",
       "24             Bachelors degree  Architecture & Engineering  $62500 - $74999   \n",
       "35             Bachelors degree  Architecture & Engineering  $62500 - $74999   \n",
       "...                         ...                         ...              ...   \n",
       "12663          Bachelors degree             Sales & Related  $75000 - $87499   \n",
       "12664          Bachelors degree             Sales & Related  $75000 - $87499   \n",
       "12667          Bachelors degree             Sales & Related  $75000 - $87499   \n",
       "12670          Bachelors degree             Sales & Related  $75000 - $87499   \n",
       "12682          Bachelors degree             Sales & Related  $75000 - $87499   \n",
       "\n",
       "         Bar CoffeeHouse CarryAway RestaurantLessThan20 Restaurant20To50  \\\n",
       "9      never       never       NaN                  4~8              1~3   \n",
       "13     never       never       NaN                  4~8              1~3   \n",
       "17     never       never       NaN                  4~8              1~3   \n",
       "24     never       less1       4~8                  4~8            less1   \n",
       "35     never       less1       4~8                  4~8            less1   \n",
       "...      ...         ...       ...                  ...              ...   \n",
       "12663  never       never       1~3                  4~8              1~3   \n",
       "12664  never       never       1~3                  4~8              1~3   \n",
       "12667  never       never       1~3                  4~8              1~3   \n",
       "12670  never       never       1~3                  4~8              1~3   \n",
       "12682  never       never       1~3                  4~8              1~3   \n",
       "\n",
       "       toCoupon_GEQ5min  toCoupon_GEQ15min  toCoupon_GEQ25min  direction_same  \\\n",
       "9                     1                  1                  0               0   \n",
       "13                    1                  0                  0               1   \n",
       "17                    1                  1                  1               0   \n",
       "24                    1                  0                  0               0   \n",
       "35                    1                  0                  0               1   \n",
       "...                 ...                ...                ...             ...   \n",
       "12663                 1                  1                  0               0   \n",
       "12664                 1                  1                  0               0   \n",
       "12667                 1                  1                  0               0   \n",
       "12670                 1                  1                  0               0   \n",
       "12682                 1                  1                  1               0   \n",
       "\n",
       "       direction_opp  Y  \n",
       "9                  1  0  \n",
       "13                 0  1  \n",
       "17                 1  0  \n",
       "24                 1  1  \n",
       "35                 0  1  \n",
       "...              ... ..  \n",
       "12663              1  0  \n",
       "12664              1  0  \n",
       "12667              1  0  \n",
       "12670              1  0  \n",
       "12682              1  0  \n",
       "\n",
       "[2017 rows x 25 columns]"
      ]
     },
     "execution_count": 98,
     "metadata": {},
     "output_type": "execute_result"
    }
   ],
   "source": [
    "# Dataframe  for 'bar' coupon\n",
    "data_bar = data[data['coupon'] == 'Bar']\n",
    "data_bar"
   ]
  },
  {
   "cell_type": "markdown",
   "metadata": {
    "id": "8ue6uCqf_qRJ"
   },
   "source": [
    "2. What proportion of bar coupons were accepted?\n"
   ]
  },
  {
   "cell_type": "code",
   "execution_count": 101,
   "metadata": {
    "id": "hSdte8Mi_qRK"
   },
   "outputs": [
    {
     "name": "stdout",
     "output_type": "stream",
     "text": [
      "Proportion of coupons accepted for Bar: 0.41001487357461575\n"
     ]
    }
   ],
   "source": [
    "# Proportin of coupons accepted for 'Bar' coupon\n",
    "data_bar_accepted = data_bar[data_bar['Y'] == 1]['coupon'].value_counts().sum()\n",
    "data_bar_total = data_bar['coupon'].value_counts().sum()\n",
    "proportion_bar_accepted = data_bar_accepted / data_bar_total\n",
    "print(f'Proportion of coupons accepted for Bar: {proportion_bar_accepted}')\n"
   ]
  },
  {
   "cell_type": "markdown",
   "metadata": {
    "id": "85nA_iEi_qRK"
   },
   "source": [
    "3. Compare the acceptance rate between those who went to a bar 3 or fewer times a month to those who went more.\n"
   ]
  },
  {
   "cell_type": "code",
   "execution_count": 105,
   "metadata": {
    "id": "LBOrN-XM_qRK"
   },
   "outputs": [
    {
     "name": "stdout",
     "output_type": "stream",
     "text": [
      "Proportion of coupons accepted for Bar with 1~3 bars: 0.6473551637279596\n",
      "Proportion of coupons accepted for Bar with 4~8 bars and gt8 bars: 0.7688442211055276\n"
     ]
    },
    {
     "data": {
      "image/png": "[encoded data removed]",
      "text/plain": [
       "<Figure size 1000x600 with 1 Axes>"
      ]
     },
     "metadata": {},
     "output_type": "display_data"
    }
   ],
   "source": [
    "data_bar['Bar'].value_counts()\n",
    "\n",
    "# Assuming the question is talking about people who went to the bar (excluding people who did not go to the bar)\n",
    "data_bar_fewer_3 = data_bar[data_bar['Bar'] == '1~3']\n",
    "data_bar_fewer_3\n",
    "#Acceptance rate for 'Bar' coupon with 1~3 bars\n",
    "data_bar_fewer_3_accepted = data_bar_fewer_3[data_bar_fewer_3['Y'] == 1]['coupon'].value_counts().sum()\n",
    "data_bar_fewer_3_total = data_bar_fewer_3['coupon'].value_counts().sum()\n",
    "\n",
    "data_bar_fewer_3_acceptance_rate = data_bar_fewer_3_accepted / data_bar_fewer_3_total\n",
    "\n",
    "print(f'Proportion of coupons accepted for Bar with 1~3 bars: {data_bar_fewer_3_acceptance_rate}')\n",
    "\n",
    "# Acceptance rate for 'Bar' coupon with 4~8 bars and gt8 bars\n",
    "data_bar_more_3 = data_bar[(data_bar['Bar'] == '4~8') | (data_bar['Bar'] == 'gt8')]\n",
    "data_bar_more_3_accepted = data_bar_more_3[data_bar_more_3['Y'] == 1]['coupon'].value_counts().sum()\n",
    "data_bar_more_3_total = data_bar_more_3['coupon'].value_counts().sum()\n",
    "\n",
    "data_bar_more_3_acceptance_rate = data_bar_more_3_accepted / data_bar_more_3_total\n",
    "\n",
    "print(f'Proportion of coupons accepted for Bar with 4~8 bars and gt8 bars: {data_bar_more_3_acceptance_rate}')\n",
    "\n",
    "# Result: Clearly the acceptance rate for 4~8 and gt8 bars is higher than 1~3 bars\n",
    "\n",
    "# Plot the two acceptance rates\n",
    "data_bar_acceptance = pd.DataFrame({'Bar Frequency': ['1~3', '4~8 and gt8'], 'Acceptance Rate': [data_bar_fewer_3_acceptance_rate, data_bar_more_3_acceptance_rate]})\n",
    "\n",
    "plt.figure(figsize=(10, 6))\n",
    "sns.barplot(x='Bar Frequency', y='Acceptance Rate', data=data_bar_acceptance)\n",
    "plt.title('Acceptance Rate for Bar Coupon')\n",
    "plt.xlabel('Bar Frequency')\n",
    "plt.ylabel('Acceptance Rate')\n",
    "plt.ylim(0, 1) # Set y-axis limits to 0-1\n",
    "plt.show()\n"
   ]
  },
  {
   "cell_type": "markdown",
   "metadata": {
    "id": "RBgcQwH4_qRK"
   },
   "source": [
    "4. Compare the acceptance rate between drivers who go to a bar more than once a month and are over the age of 25 to the all others.  Is there a difference?\n"
   ]
  },
  {
   "cell_type": "code",
   "execution_count": 106,
   "metadata": {
    "id": "bf28bbeX_qRK"
   },
   "outputs": [
    {
     "name": "stdout",
     "output_type": "stream",
     "text": [
      "Proportion of coupons accepted for Bar with 1~3, 4~8 and gt8 bars and age 25 and above: 0.6952380952380952\n",
      "Proportion of coupons accepted for people who do not go to Bar and age below 25: 0.3932926829268293\n"
     ]
    },
    {
     "data": {
      "image/png": "[encoded data removed]",
      "text/plain": [
       "<Figure size 1000x600 with 1 Axes>"
      ]
     },
     "metadata": {},
     "output_type": "display_data"
    }
   ],
   "source": [
    "data_bar_more_once = data_bar[(data_bar['Bar'] == '1~3') | (data_bar['Bar'] == '4~8') | (data_bar['Bar'] == 'gt8')]\n",
    "data_bar_more_once_age_25_above = data_bar_more_once[(data_bar_more_once['age'] >= 25)]\n",
    "\n",
    "data_bar_more_once_age_25_above_accepted = data_bar_more_once_age_25_above[data_bar_more_once_age_25_above['Y'] == 1]['coupon'].value_counts().sum()\n",
    "data_bar_more_once_age_25_above_total = data_bar_more_once_age_25_above['coupon'].value_counts().sum()\n",
    "data_bar_more_once_age_25_above_acceptance_rate = data_bar_more_once_age_25_above_accepted / data_bar_more_once_age_25_above_total\n",
    "\n",
    "print(f'Proportion of coupons accepted for Bar with 1~3, 4~8 and gt8 bars and age 25 and above: {data_bar_more_once_age_25_above_acceptance_rate}')\n",
    "\n",
    "data_bar_rest = data_bar[(data_bar['Bar'] != '1~3') & (data_bar['Bar'] != '4~8') & (data_bar['Bar'] != 'gt8')]\n",
    "data_bar_rest_age_25_below = data_bar_rest[(data_bar_rest['age'] < 25)]\n",
    "data_bar_rest_age_25_below_accepted = data_bar_rest_age_25_below[data_bar_rest_age_25_below['Y'] == 1]['coupon'].value_counts().sum()\n",
    "data_bar_rest_age_25_below_total = data_bar_rest_age_25_below['coupon'].value_counts().sum()\n",
    "data_bar_rest_age_25_below_acceptance_rate = data_bar_rest_age_25_below_accepted / data_bar_rest_age_25_below_total\n",
    "\n",
    "print(f'Proportion of coupons accepted for people who do not go to Bar and age below 25: {data_bar_rest_age_25_below_acceptance_rate}')\n",
    "\n",
    "# Result: Clearly people who go to the bar have higher acceptance rate than people who do not go to the bar\n",
    "\n",
    "# Plot the two acceptance rates\n",
    "data_bar_age = pd.DataFrame({'Age': ['25 and above', 'Below 25'], 'Acceptance Rate': [data_bar_more_once_age_25_above_acceptance_rate, data_bar_rest_age_25_below_acceptance_rate]})\n",
    "plt.figure(figsize=(10, 6))\n",
    "sns.barplot(x='Age', y='Acceptance Rate', data=data_bar_age)\n",
    "plt.title('Acceptance Rate for Bar Coupon')\n",
    "plt.xlabel('Age')\n",
    "plt.ylabel('Acceptance Rate')\n",
    "plt.ylim(0, 1) # Set y-axis limits to 0-1\n",
    "plt.show()"
   ]
  },
  {
   "cell_type": "markdown",
   "metadata": {
    "id": "S4RKT4PJ_qRK"
   },
   "source": [
    "5. Use the same process to compare the acceptance rate between drivers who go to bars more than once a month and had passengers that were not a kid and had occupations other than farming, fishing, or forestry.\n"
   ]
  },
  {
   "cell_type": "code",
   "execution_count": 108,
   "metadata": {
    "id": "sENaI2Tg_qRK"
   },
   "outputs": [
    {
     "name": "stdout",
     "output_type": "stream",
     "text": [
      "Proportion of coupons accepted for people who go to Bar with kid(s): 0.37777777777777777\n",
      "Proportion of coupons accepted for people who go to Bar with no kid(s): 0.7132486388384754\n"
     ]
    },
    {
     "data": {
      "image/png": "[encoded data removed]",
      "text/plain": [
       "<Figure size 1000x600 with 1 Axes>"
      ]
     },
     "metadata": {},
     "output_type": "display_data"
    },
    {
     "name": "stdout",
     "output_type": "stream",
     "text": [
      "Proportion of coupons accepted for people who go to Bar with occupation other than Farming Fishing & Forestry: 0.4098605577689243\n",
      "Proportion of coupons accepted for people who go to Bar with occupation Farming Fishing & Forestry: 0.4444444444444444\n"
     ]
    },
    {
     "data": {
      "image/png": "[encoded data removed]",
      "text/plain": [
       "<Figure size 1000x600 with 1 Axes>"
      ]
     },
     "metadata": {},
     "output_type": "display_data"
    }
   ],
   "source": [
    "# Acceptance rate people who go to bar with passengers kid(s) and those who do not go with kid(s)\n",
    "data_bar_more_than_once = data_bar[(data_bar['Bar'] == '1~3') | (data_bar['Bar'] == '4~8') | (data_bar['Bar'] == 'gt8')] \n",
    "#data_bar_more_than_once['passanger'].value_counts()\n",
    "\n",
    "data_bar_more_than_once_passenger_kid = data_bar_more_than_once[data_bar_more_than_once['passanger'] == 'Kid(s)']\n",
    "data_bar_more_than_once_passenger_kid_accepted = data_bar_more_than_once_passenger_kid[data_bar_more_than_once_passenger_kid['Y'] == 1]['coupon'].value_counts().sum()\n",
    "data_bar_more_than_once_passenger_kid_total = data_bar_more_than_once_passenger_kid['coupon'].value_counts().sum()\n",
    "\n",
    "data_bar_more_than_once_passenger_kid_acceptance_rate = data_bar_more_than_once_passenger_kid_accepted / data_bar_more_than_once_passenger_kid_total\n",
    "\n",
    "print(f'Proportion of coupons accepted for people who go to Bar with kid(s): {data_bar_more_than_once_passenger_kid_acceptance_rate}')\n",
    "\n",
    "data_bar_more_than_once_passenger_no_kid = data_bar_more_than_once[data_bar_more_than_once['passanger'] != 'Kid(s)']\n",
    "data_bar_more_than_once_passenger_no_kid_accepted = data_bar_more_than_once_passenger_no_kid[data_bar_more_than_once_passenger_no_kid['Y'] == 1]['coupon'].value_counts().sum()\n",
    "data_bar_more_than_once_passenger_no_kid_total = data_bar_more_than_once_passenger_no_kid['coupon'].value_counts().sum()\n",
    "data_bar_more_than_once_passenger_no_kid_acceptance_rate = data_bar_more_than_once_passenger_no_kid_accepted / data_bar_more_than_once_passenger_no_kid_total\n",
    "\n",
    "print(f'Proportion of coupons accepted for people who go to Bar with no kid(s): {data_bar_more_than_once_passenger_no_kid_acceptance_rate}')\n",
    "\n",
    "# Result: People who go to the bar with kid(s) have lower acceptance rate than people who go to the bar with no kid(s)\n",
    "\n",
    "# Plot the two acceptance rates\n",
    "data_bar_passenger = pd.DataFrame({'Passenger': ['Kid(s)', 'No Kid(s)'], 'Acceptance Rate': [data_bar_more_than_once_passenger_kid_acceptance_rate, data_bar_more_than_once_passenger_no_kid_acceptance_rate]})\n",
    "plt.figure(figsize=(10, 6))\n",
    "sns.barplot(x='Passenger', y='Acceptance Rate', data=data_bar_passenger)\n",
    "plt.title('Acceptance Rate for Bar Coupon')\n",
    "plt.xlabel('Passenger')\n",
    "plt.ylabel('Acceptance Rate')\n",
    "plt.ylim(0, 1) # Set y-axis limits to 0-1\n",
    "plt.show()\n",
    "\n",
    "# Acceptance rate for people who go to the bar with occupation other than 'Farming Fishing & Forestry'\n",
    "data_bar_occupation_not_farm_fish_forestry = data_bar[data_bar['occupation'] != 'Farming Fishing & Forestry']\n",
    "data_bar_occupation_not_farm_fish_forestry_accepted = data_bar_occupation_not_farm_fish_forestry[data_bar_occupation_not_farm_fish_forestry['Y'] == 1]['coupon'].value_counts().sum()\n",
    "data_bar_occupation_not_farm_fish_forestry_total = data_bar_occupation_not_farm_fish_forestry['coupon'].value_counts().sum()\n",
    "data_bar_occupation_not_farm_fish_forestry_acceptance_rate = data_bar_occupation_not_farm_fish_forestry_accepted / data_bar_occupation_not_farm_fish_forestry_total\n",
    "\n",
    "print(f'Proportion of coupons accepted for people who go to Bar with occupation other than Farming Fishing & Forestry: {data_bar_occupation_not_farm_fish_forestry_acceptance_rate}')\n",
    "\n",
    "# Acceptance rate for people who go to the bar with occupation 'Farming Fishing & Forestry'\n",
    "data_bar_occupation_farm_fish_forestry = data_bar[data_bar['occupation'] == 'Farming Fishing & Forestry']\n",
    "data_bar_occupation_farm_fish_forestry_accepted = data_bar_occupation_farm_fish_forestry[data_bar_occupation_farm_fish_forestry['Y'] == 1]['coupon'].value_counts().sum()\n",
    "data_bar_occupation_farm_fish_forestry_total = data_bar_occupation_farm_fish_forestry['coupon'].value_counts().sum()\n",
    "data_bar_occupation_farm_fish_forestry_acceptance_rate = data_bar_occupation_farm_fish_forestry_accepted / data_bar_occupation_farm_fish_forestry_total\n",
    "\n",
    "print(f'Proportion of coupons accepted for people who go to Bar with occupation Farming Fishing & Forestry: {data_bar_occupation_farm_fish_forestry_acceptance_rate}')\n",
    "\n",
    "# Result: People who go to the bar with occupation other than 'Farming Fishing & Forestry' have higher acceptance rate than people who go to the bar with occupation 'Farming Fishing & Forestry'\n",
    "\n",
    "# Plot the two acceptance rates\n",
    "data_bar_occupation = pd.DataFrame({'Occupation': ['Other than Farming Fishing & Forestry', 'Farming Fishing & Forestry'], 'Acceptance Rate': [data_bar_occupation_not_farm_fish_forestry_acceptance_rate, data_bar_occupation_farm_fish_forestry_acceptance_rate]})\n",
    "plt.figure(figsize=(10, 6))\n",
    "sns.barplot(x='Occupation', y='Acceptance Rate', data=data_bar_occupation)\n",
    "plt.title('Acceptance Rate for Bar Coupon')\n",
    "plt.xlabel('Occupation')\n",
    "plt.ylabel('Acceptance Rate')\n",
    "plt.ylim(0, 1) # Set y-axis limits to 0-1\n",
    "plt.show()"
   ]
  },
  {
   "cell_type": "markdown",
   "metadata": {
    "id": "n2LIUTil_qRK"
   },
   "source": [
    "6. Compare the acceptance rates between those drivers who:\n",
    "\n",
    "- go to bars more than once a month, had passengers that were not a kid, and were not widowed *OR*\n",
    "- go to bars more than once a month and are under the age of 30 *OR*\n",
    "- go to cheap restaurants more than 4 times a month and income is less than 50K.\n",
    "\n"
   ]
  },
  {
   "cell_type": "code",
   "execution_count": 73,
   "metadata": {
    "id": "aK_wEzx7_qRK"
   },
   "outputs": [
    {
     "name": "stdout",
     "output_type": "stream",
     "text": [
      "Proportion of coupons accepted for people who go to Bar more than once a month and age below 30: 0.7217391304347827\n",
      "Proportion of coupons accepted for people who go to Bar more than once a month and age above 30: 0.6414342629482072\n"
     ]
    }
   ],
   "source": [
    "# Acceptance rate between drivers who go to bar more than once a month and are under age 30 vs those who are above age 30\n",
    "data_bar_more_than_once_age_30_below = data_bar_more_than_once[data_bar_more_than_once['age'] < 31]\n",
    "data_bar_more_than_once_age_30_below_accepted = data_bar_more_than_once_age_30_below[data_bar_more_than_once_age_30_below['Y'] == 1]['coupon'].value_counts().sum()\n",
    "data_bar_more_than_once_age_30_below_total = data_bar_more_than_once_age_30_below['coupon'].value_counts().sum()\n",
    "data_bar_more_than_once_age_30_below_acceptance_rate = data_bar_more_than_once_age_30_below_accepted / data_bar_more_than_once_age_30_below_total\n",
    "\n",
    "print(f'Proportion of coupons accepted for people who go to Bar more than once a month and age below 30: {data_bar_more_than_once_age_30_below_acceptance_rate}')\n",
    "\n",
    "data_bar_more_than_once_age_30_above = data_bar_more_than_once[data_bar_more_than_once['age'] > 30]\n",
    "data_bar_more_than_once_age_30_above_accepted = data_bar_more_than_once_age_30_above[data_bar_more_than_once_age_30_above['Y'] == 1]['coupon'].value_counts().sum()\n",
    "data_bar_more_than_once_age_30_above_total = data_bar_more_than_once_age_30_above['coupon'].value_counts().sum()\n",
    "data_bar_more_than_once_age_30_above_acceptance_rate = data_bar_more_than_once_age_30_above_accepted / data_bar_more_than_once_age_30_above_total\n",
    "\n",
    "print(f'Proportion of coupons accepted for people who go to Bar more than once a month and age above 30: {data_bar_more_than_once_age_30_above_acceptance_rate}')\n"
   ]
  },
  {
   "cell_type": "markdown",
   "metadata": {
    "id": "v3fL3QkO_qRK"
   },
   "source": [
    "7.  Based on these observations, what do you hypothesize about drivers who accepted the bar coupons?"
   ]
  },
  {
   "cell_type": "code",
   "execution_count": null,
   "metadata": {
    "id": "Y48naDFh_qRL"
   },
   "outputs": [],
   "source": [
    "# Based on above data about people who go to the bar we can conclude the following\n",
    "    #  More drivers above age 30 go to bars\n",
    "    #  They have occupation other than Farming Fishing & Forestry\n",
    "    #  More people who do not have kid(s) with them have higher acceptance rate for the coupon\n",
    "    #  People who go to bar more than 3 times have higher acceptance rate for the coupon\n",
    "    # People over age 25 have higher acceptance rate for the coupon"
   ]
  },
  {
   "cell_type": "markdown",
   "metadata": {
    "id": "r4Hu1zOb_qRL"
   },
   "source": [
    "### Independent Investigation\n",
    "\n",
    "Using the bar coupon example as motivation, you are to explore one of the other coupon groups and try to determine the characteristics of passengers who accept the coupons.  "
   ]
  },
  {
   "cell_type": "code",
   "execution_count": 113,
   "metadata": {
    "id": "0c71cQhu_qRL"
   },
   "outputs": [
    {
     "name": "stdout",
     "output_type": "stream",
     "text": [
      "Proportion of coupons accepted by married male: 0.5650459921156373\n",
      "Proportion of coupons accepted by married females: 0.5250266240681576\n"
     ]
    },
    {
     "data": {
      "image/png": "[encoded data removed]",
      "text/plain": [
       "<Figure size 1000x600 with 1 Axes>"
      ]
     },
     "metadata": {},
     "output_type": "display_data"
    },
    {
     "name": "stdout",
     "output_type": "stream",
     "text": [
      "Proportion of coupons accepted by divorced male: 0.6967213114754098\n",
      "Proportion of coupons accepted by divorced females: 0.47715736040609136\n"
     ]
    },
    {
     "data": {
      "image/png": "[encoded data removed]",
      "text/plain": [
       "<Figure size 1000x600 with 1 Axes>"
      ]
     },
     "metadata": {},
     "output_type": "display_data"
    }
   ],
   "source": [
    "# Evaluate coupon accpetance rate based on gender, maritalStatus\n",
    "\n",
    "data_male = data[data['gender'] == 'Male']\n",
    "data_male_married = data_male[data_male['maritalStatus'] == 'Married partner']\n",
    "data_male_married_accepted = data_male_married[data_male_married['Y'] == 1]['coupon'].value_counts().sum()\n",
    "data_male_married_total = data_male_married['coupon'].value_counts().sum()\n",
    "data_male_married_acceptance_rate = data_male_married_accepted / data_male_married_total\n",
    "\n",
    "print(f'Proportion of coupons accepted by married male: {data_male_married_acceptance_rate}')\n",
    "\n",
    "data_female = data[data['gender'] == 'Female']\n",
    "data_female_married = data_female[data_female['maritalStatus'] == 'Married partner']\n",
    "data_female_married_accepted = data_female_married[data_female_married['Y'] == 1]['coupon'].value_counts().sum()\n",
    "data_female_married_total = data_female_married['coupon'].value_counts().sum()\n",
    "data_female_married_acceptance_rate = data_female_married_accepted / data_female_married_total\n",
    "\n",
    "print(f'Proportion of coupons accepted by married females: {data_female_married_acceptance_rate}')\n",
    "\n",
    "# Acceptance rate of coupons for married men was slightly higher than married woman\n",
    "\n",
    "# Plot the two acceptance rates\n",
    "data_married = pd.DataFrame({'Gender': ['Male', 'Female'], 'Acceptance Rate': [data_male_married_acceptance_rate, data_female_married_acceptance_rate]})\n",
    "\n",
    "plt.figure(figsize=(10, 6))\n",
    "sns.barplot(x='Gender', y='Acceptance Rate', data=data_married)\n",
    "plt.title('Acceptance Rate for Couponsaccepted by Married People')\n",
    "plt.xlabel('Married')\n",
    "plt.ylabel('Acceptance Rate')\n",
    "plt.ylim(0, 1) # Set y-axis limits to 0-1\n",
    "plt.show()\n",
    "\n",
    "data_male_divorced = data_male[data_male['maritalStatus'] == 'Divorced']\n",
    "data_male_divorced_accepted = data_male_divorced[data_male_divorced['Y'] == 1]['coupon'].value_counts().sum()\n",
    "data_male_divorced_total = data_male_divorced['coupon'].value_counts().sum()\n",
    "data_male_divorced_acceptance_rate = data_male_divorced_accepted / data_male_divorced_total\n",
    "\n",
    "print(f'Proportion of coupons accepted by divorced male: {data_male_divorced_acceptance_rate}')\n",
    "\n",
    "#custom_colors = ['#1f77b4', '#ff7f0e', '#2ca02c', '#d62728', '#9467bd']\n",
    "#sns.histplot(data=data_male_divorced, x='age', hue='coupon', palette=custom_colors, multiple='stack')\n",
    "\n",
    "data_female_divorced = data_female[data_female['maritalStatus'] == 'Divorced']\n",
    "data_female_divorced_accepted = data_female_divorced[data_female_divorced['Y'] == 1]['coupon'].value_counts().sum()\n",
    "data_female_divorced_total = data_female_divorced['coupon'].value_counts().sum()\n",
    "data_female_divorced_acceptance_rate = data_female_divorced_accepted / data_female_divorced_total\n",
    "\n",
    "print(f'Proportion of coupons accepted by divorced females: {data_female_divorced_acceptance_rate}')\n",
    "\n",
    "# Result\n",
    "# Married male have slightly more acceptance rate compared to married females\n",
    "# Divorced male have more acceptance rate compared to divorced females amd married males\n",
    "# Divorced female have less acceptance rate compared to marrried females\n",
    "\n",
    "# Plot the two acceptance rates\n",
    "data_divorce = pd.DataFrame({'Gender': ['Male', 'Female'], 'Acceptance Rate': [data_male_divorced_acceptance_rate, data_female_divorced_acceptance_rate]})\n",
    "plt.figure(figsize=(10, 6))\n",
    "sns.barplot(x='Gender', y='Acceptance Rate', data=data_divorce)\n",
    "plt.title('Acceptance Rate for Coupons accepted by Divorced People')\n",
    "plt.xlabel('Divorced')\n",
    "plt.ylabel('Acceptance Rate')\n",
    "plt.ylim(0, 1) # Set y-axis limits to 0-1\n",
    "plt.show()\n",
    "\n"
   ]
  },
  {
   "cell_type": "code",
   "execution_count": 89,
   "metadata": {
    "id": "QEsBkvIN_qRL"
   },
   "outputs": [],
   "source": []
  },
  {
   "cell_type": "code",
   "execution_count": null,
   "metadata": {
    "id": "fTC2WGE3_qRL"
   },
   "outputs": [],
   "source": []
  },
  {
   "cell_type": "code",
   "execution_count": null,
   "metadata": {
    "id": "RrqUWn7d_qRL"
   },
   "outputs": [],
   "source": []
  },
  {
   "cell_type": "code",
   "execution_count": null,
   "metadata": {
    "id": "_oykf8YP_qRL"
   },
   "outputs": [],
   "source": []
  }
 ],
 "metadata": {
  "colab": {
   "provenance": []
  },
  "kernelspec": {
   "display_name": "Python (myenv)",
   "language": "python",
   "name": "myenv"
  },
  "language_info": {
   "codemirror_mode": {
    "name": "ipython",
    "version": 3
   },
   "file_extension": ".py",
   "mimetype": "text/x-python",
   "name": "python",
   "nbconvert_exporter": "python",
   "pygments_lexer": "ipython3",
   "version": "3.12.3"
  }
 },
 "nbformat": 4,
 "nbformat_minor": 1
}
